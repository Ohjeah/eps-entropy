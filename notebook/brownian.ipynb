{
 "cells": [
  {
   "cell_type": "code",
   "execution_count": null,
   "metadata": {},
   "outputs": [],
   "source": [
    "%load_ext autoreload\n",
    "%autoreload 2\n",
    "%matplotlib inline\n",
    "\n",
    "import numpy as np\n",
    "import matplotlib.pyplot as plt"
   ]
  },
  {
   "cell_type": "code",
   "execution_count": null,
   "metadata": {},
   "outputs": [],
   "source": [
    "def brownian(n):\n",
    "    return np.cumsum(np.random.normal(size=n))"
   ]
  },
  {
   "cell_type": "code",
   "execution_count": null,
   "metadata": {},
   "outputs": [],
   "source": [
    "from toolz import iterate, take\n",
    "\n",
    "n = 10_000\n",
    "ts = brownian(n)\n",
    "\n",
    "plt.plot(ts, '-')"
   ]
  },
  {
   "cell_type": "code",
   "execution_count": null,
   "metadata": {},
   "outputs": [],
   "source": [
    "from eps_entropy import entropy\n",
    "from eps_entropy.symbols import eps_grid, exit_times_symbols"
   ]
  },
  {
   "cell_type": "code",
   "execution_count": null,
   "metadata": {},
   "outputs": [],
   "source": [
    "eps = 0.05\n",
    "eps_symbols = eps_grid(ts, eps)\n",
    "_ = plt.hist(eps_symbols, bins=50)"
   ]
  },
  {
   "cell_type": "code",
   "execution_count": null,
   "metadata": {},
   "outputs": [],
   "source": [
    "word_length = [2**i for i in range(8)]\n",
    "block_entropy = [entropy(eps_symbols, wl) for wl in word_length]\n"
   ]
  },
  {
   "cell_type": "code",
   "execution_count": null,
   "metadata": {},
   "outputs": [],
   "source": [
    "plt.semilogx(word_length, block_entropy, \"o-\")"
   ]
  },
  {
   "cell_type": "code",
   "execution_count": null,
   "metadata": {},
   "outputs": [],
   "source": [
    "fig, ax = plt.subplots()\n",
    "\n",
    "word_length = [2**i for i in range(8)]\n",
    "for eps in [3, 1, 0.1, 0.05, 0.01, 0.005]:\n",
    "    eps_symbols = eps_grid(ts, eps)\n",
    "    block_entropy = [entropy(eps_symbols, wl) for wl in word_length]\n",
    "    ax.semilogx(word_length, block_entropy, 'o-', label=str(eps))\n",
    "ax.legend()"
   ]
  },
  {
   "cell_type": "code",
   "execution_count": null,
   "metadata": {},
   "outputs": [],
   "source": [
    "epss = [0.1, 0.5, 1, 2, 4, 8, 16, 32, 64, 100, 128]\n",
    "wl = 4\n",
    "block_entropy = []\n",
    "for eps in epss:\n",
    "    eps_symbols = eps_grid(ts, eps)\n",
    "    block_entropy.append(entropy(eps_symbols, wl)/wl)\n",
    "                         \n",
    "plt.loglog(epss, block_entropy, '-o')"
   ]
  },
  {
   "cell_type": "code",
   "execution_count": null,
   "metadata": {},
   "outputs": [],
   "source": [
    "for wl in [1, 2, 5, 10, 20]:\n",
    "    epss = [0.001, 0.01, 0.1, 1, 2, 3, 4, 5, 6, 7, 8, 10, 15, 20, 30, 50, 100]\n",
    "    ts = np.array(ts)\n",
    "\n",
    "    block_entropy = []\n",
    "    for eps in epss:\n",
    "        symbols = exit_times_symbols(ts, eps, tau)\n",
    "        times, _ = zip(*symbols)\n",
    "        block_entropy.append(entropy(symbols, wl)/ np.mean(times))\n",
    "\n",
    "    plt.loglog(epss, block_entropy, 'o-', label=str(wl))\n",
    "plt.legend()\n",
    "plt.ylabel(r\"$h_n(\\epsilon)$\")\n",
    "_ = plt.xlabel(r\"$\\epsilon$\")"
   ]
  },
  {
   "cell_type": "code",
   "execution_count": null,
   "metadata": {},
   "outputs": [],
   "source": []
  }
 ],
 "metadata": {
  "kernelspec": {
   "display_name": "Python 3",
   "language": "python",
   "name": "python3"
  },
  "language_info": {
   "codemirror_mode": {
    "name": "ipython",
    "version": 3
   },
   "file_extension": ".py",
   "mimetype": "text/x-python",
   "name": "python",
   "nbconvert_exporter": "python",
   "pygments_lexer": "ipython3",
   "version": "3.6.4"
  }
 },
 "nbformat": 4,
 "nbformat_minor": 2
}
